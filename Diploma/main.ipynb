{
 "cells": [
  {
   "cell_type": "code",
   "execution_count": 7,
   "metadata": {},
   "outputs": [
    {
     "name": "stdout",
     "output_type": "stream",
     "text": [
      "{'В': Counter({'лесу': 2}), 'лесу': Counter({'родилась': 1, 'она': 1}), 'родилась': Counter({'ёлочка': 1}), 'ёлочка': Counter({'В': 1}), 'она': Counter({'росла': 1}), 'росла': Counter({'Зимой': 1}), 'Зимой': Counter({'и': 1}), 'и': Counter({'летом': 1}), 'летом': Counter({'стройная': 1}), 'стройная': Counter({'Зелёная': 1}), 'Зелёная': Counter({'была': 1})}\n"
     ]
    }
   ],
   "source": [
    "from collections import Counter\n",
    "import re\n",
    "\n",
    "line = 'В лесу родилась ёлочка, \\\n",
    "В лесу она росла. \\\n",
    "Зимой и летом стройная, \\\n",
    "Зелёная была.'\n",
    "\n",
    "words = [word.strip() for word in re.sub(r\"[,.!?]+\", '', line).split()]\n",
    "proper_pairs = {}\n",
    "for i in range(len(words)):\n",
    "    if i == len(words)-1:\n",
    "        break\n",
    "    if words[i] in proper_pairs:\n",
    "        proper_pairs[words[i]].append(words[i+1])\n",
    "    else:\n",
    "        proper_pairs[words[i]] = [words[i+1]]\n",
    "for key, val in proper_pairs.items():\n",
    "    proper_pairs[key] = Counter(val)\n",
    "print(proper_pairs)"
   ]
  },
  {
   "cell_type": "code",
   "execution_count": null,
   "metadata": {},
   "outputs": [],
   "source": []
  }
 ],
 "metadata": {
  "kernelspec": {
   "display_name": "Python 3.10.7 64-bit",
   "language": "python",
   "name": "python3"
  },
  "language_info": {
   "codemirror_mode": {
    "name": "ipython",
    "version": 3
   },
   "file_extension": ".py",
   "mimetype": "text/x-python",
   "name": "python",
   "nbconvert_exporter": "python",
   "pygments_lexer": "ipython3",
   "version": "3.10.7"
  },
  "orig_nbformat": 4,
  "vscode": {
   "interpreter": {
    "hash": "26de051ba29f2982a8de78e945f0abaf191376122a1563185a90213a26c5da77"
   }
  }
 },
 "nbformat": 4,
 "nbformat_minor": 2
}
