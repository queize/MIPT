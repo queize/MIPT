{
 "cells": [
  {
   "cell_type": "code",
   "execution_count": null,
   "metadata": {},
   "outputs": [],
   "source": [
    "class Player:\n",
    "    \n",
    "    id: int\n",
    "    name: str\n",
    "    scores: int = 0\n",
    "    games: list = []\n",
    "\n",
    "    def __init__(self, id: int, name: str) -> None:\n",
    "        self.id = id\n",
    "        self.name = name\n",
    "\n",
    "    def add_result(self, game_id: int, scores: int) -> None:\n",
    "        self.scores += scores\n",
    "        self.games.append(game_id)\n",
    "\n",
    "    def get_mean(self) -> float:\n",
    "        return self.scores / len(self.games)"
   ]
  },
  {
   "cell_type": "code",
   "execution_count": null,
   "metadata": {},
   "outputs": [],
   "source": [
    "class Power:\n",
    "\n",
    "    name: str\n",
    "    cost: int\n",
    "    player: Player\n",
    "\n",
    "    def __init__(self, name: str, cost: int) -> None:\n",
    "        self.name = name\n",
    "        self.cost = cost\n",
    "\n",
    "    def use(self, player: Player) -> None:\n",
    "        pass\n",
    "\n",
    "\n",
    "class PhysicalPower(Power):\n",
    "\n",
    "    count: int = 0\n",
    "\n",
    "    def __init__(self, name: str, cost: int, count: int) -> None:\n",
    "        self.name = name\n",
    "        self.cost = cost\n",
    "        self.count = count\n",
    "\n",
    "    def use(self, player: Player) -> None:\n",
    "        if self.count > 0:\n",
    "            print(f'{player.name} used {self.name}')\n",
    "            self.count -= 1\n",
    "        else:\n",
    "            print(f'{player.name} cannot use {self.name}')\n",
    "\n",
    "\n",
    "class MagicPower(Power):\n",
    "\n",
    "    def use(self, player: Player) -> None:\n",
    "        print(f'{player.name} used {self.name}')\n",
    "        player.scores += 1"
   ]
  },
  {
   "cell_type": "code",
   "execution_count": null,
   "metadata": {},
   "outputs": [],
   "source": [
    "p = Player(1, 'Bilbo')"
   ]
  },
  {
   "cell_type": "code",
   "execution_count": null,
   "metadata": {},
   "outputs": [],
   "source": [
    "t = PhysicalPower('teleport', 10, count=1)"
   ]
  },
  {
   "cell_type": "code",
   "execution_count": null,
   "metadata": {},
   "outputs": [],
   "source": [
    "t.use(p)"
   ]
  },
  {
   "cell_type": "code",
   "execution_count": null,
   "metadata": {},
   "outputs": [],
   "source": [
    "t.use(p)"
   ]
  },
  {
   "cell_type": "code",
   "execution_count": null,
   "metadata": {},
   "outputs": [],
   "source": [
    "p.scores"
   ]
  },
  {
   "cell_type": "code",
   "execution_count": null,
   "metadata": {},
   "outputs": [],
   "source": [
    "b = MagicPower('Black magic', 200)"
   ]
  },
  {
   "cell_type": "code",
   "execution_count": null,
   "metadata": {},
   "outputs": [],
   "source": [
    "b.use(p)"
   ]
  },
  {
   "cell_type": "code",
   "execution_count": null,
   "metadata": {},
   "outputs": [],
   "source": [
    "b.use(p)"
   ]
  },
  {
   "cell_type": "code",
   "execution_count": null,
   "metadata": {},
   "outputs": [],
   "source": [
    "p.scores"
   ]
  }
 ],
 "metadata": {
  "kernelspec": {
   "display_name": "Python 3.10.7 64-bit",
   "language": "python",
   "name": "python3"
  },
  "language_info": {
   "codemirror_mode": {
    "name": "ipython",
    "version": 3
   },
   "file_extension": ".py",
   "mimetype": "text/x-python",
   "name": "python",
   "nbconvert_exporter": "python",
   "pygments_lexer": "ipython3",
   "version": "3.10.7"
  },
  "orig_nbformat": 4,
  "vscode": {
   "interpreter": {
    "hash": "26de051ba29f2982a8de78e945f0abaf191376122a1563185a90213a26c5da77"
   }
  }
 },
 "nbformat": 4,
 "nbformat_minor": 2
}
