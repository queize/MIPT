{
 "cells": [
  {
   "cell_type": "code",
   "execution_count": 3,
   "metadata": {},
   "outputs": [],
   "source": [
    "import numpy as np"
   ]
  },
  {
   "cell_type": "code",
   "execution_count": 37,
   "metadata": {},
   "outputs": [],
   "source": [
    "def numerical_derivative_2d(func, epsilon):\n",
    "    \"\"\"\n",
    "    Функция для приближённого вычисления градиента функции двух переменных. \n",
    "    :param func: np.array[2] -> float — произвольная дифференцируемая функция\n",
    "    :param epsilon: float — максимальная величина приращения по осям\n",
    "    :return: другая функция, которая приближённо вычисляет градиент в точке\n",
    "    \"\"\"\n",
    "    def grad_func(x):\n",
    "        \"\"\"\n",
    "        :param x: np.array[2] — точка, в которой нужно вычислить градиент\n",
    "        :return: np.array[2] — приближённое значение градиента в этой точке\n",
    "        \"\"\"\n",
    "        x1, x2 = x\n",
    "        dx1 = (func(x1 + epsilon, x2) - func(x1 - epsilon, x2)) / (2*epsilon)\n",
    "        dx2 = (func(x1, x2 + epsilon) - func(x1, x2 - epsilon)) / (2*epsilon)\n",
    "        return np.array([dx1, dx2])\n",
    "\n",
    "    return grad_func\n",
    "\n",
    "\n",
    "\n",
    "def grad_descent_2d(func, low, high, start=None, callback=None):\n",
    "    \"\"\" \n",
    "    Реализация градиентного спуска для функций двух переменных \n",
    "    с несколькими локальным минимумами, но известной квадратной окрестностью\n",
    "    глобального минимума. Все тесты будут иметь такую природу.\n",
    "\n",
    "    Обратите внимание, что здесь градиент функции не дан.\n",
    "    Его нужно вычислять приближённо.\n",
    "\n",
    "    :param func: np.ndarray -> float — функция \n",
    "    :param low: левая граница интервала по каждой из осей\n",
    "    :param high: правая граница интервала по каждой из осей\n",
    "    \"\"\"\n",
    "    eps, lr = 1e-10, 0.5\n",
    "    df = numerical_derivative_2d(func, eps)\n",
    "    x10, x20 = start\n",
    "    for _ in range(int(1e4)):\n",
    "        x10 = x10 - lr*df[0]\n",
    "        x20 = x10 - lr*df[1]\n",
    "    return np.array([x10, x20])"
   ]
  },
  {
   "cell_type": "code",
   "execution_count": 31,
   "metadata": {},
   "outputs": [],
   "source": [
    "from math import sin, cos, tan, exp, pi, log\n",
    "\n",
    "def func(x, y, z):\n",
    "    return log(cos(exp(x + y))) - log(x*y)\n",
    "\n",
    "def diff_x(f, *arr):\n",
    "    epsilon = 1e-10\n",
    "    x, y, z = arr\n",
    "    if np.abs(f(x + epsilon, y, z) - f(x, y, z)) < 1e-10:\n",
    "        return 0\n",
    "    return (f(x + epsilon, y, z) - f(x, y, z)) / epsilon\n",
    "\n",
    "\n",
    "def diff_y(f, *arr):\n",
    "    epsilon = 1e-10\n",
    "    x, y, z = arr\n",
    "    if np.abs(f(x, y + epsilon, z) - f(x, y, z)) < 1e-10:\n",
    "        return 0\n",
    "    return (f(x, y + epsilon, z) - f(x, y, z)) / epsilon\n",
    "\n",
    "\n",
    "def diff_z(f, *arr):\n",
    "    epsilon = 1e-10\n",
    "    x, y, z = arr\n",
    "    if np.abs(f(x, y, z + epsilon) - f(x, y, z)) < 1e-10:\n",
    "        return 0\n",
    "    return (f(x, y, z + epsilon) - f(x, y, z)) / epsilon\n",
    "\n",
    "\n",
    "def grad_2(x, y, z):\n",
    "    #возвращает кортеж из 3 чисел --- частных производных по x,y,z \n",
    "    dx = diff_x(func, x, y, z)\n",
    "    dy = diff_y(func, x, y, z)\n",
    "    dz = diff_z(func, x, y, z)\n",
    "    return (dx, dy, dz)\n"
   ]
  },
  {
   "cell_type": "code",
   "execution_count": 34,
   "metadata": {},
   "outputs": [],
   "source": [
    "from numpy import sin, cos, tan, exp, sqrt, pi\n",
    "def better_grad_2(x, y, z):\n",
    "    #возвращает кортеж из 3 чисел --- частных производных по x,y,z \n",
    "    dx = -tan(exp(x+y))*exp(x+y)-1/x\n",
    "    dy = -tan(exp(x+y))*exp(x+y)-1/y\n",
    "    dz = 0\n",
    "    return (dx, dy, dz)"
   ]
  },
  {
   "cell_type": "code",
   "execution_count": 33,
   "metadata": {},
   "outputs": [
    {
     "name": "stdout",
     "output_type": "stream",
     "text": [
      "(-58.73135755507519, -58.23135751370501, 0)\n",
      "(-58.73131496788059, -58.23131496788059, 0)\n"
     ]
    }
   ],
   "source": [
    "print(grad_2(1, 2, 3))\n",
    "print(better_grad_2(1, 2, 3))"
   ]
  },
  {
   "cell_type": "code",
   "execution_count": 35,
   "metadata": {},
   "outputs": [
    {
     "name": "stdout",
     "output_type": "stream",
     "text": [
      "(-58.73135755507519, -58.23135751370501, 0)\n",
      "(-58.73131496788059, -58.23131496788059, 0)\n"
     ]
    }
   ],
   "source": [
    "print(grad_2(1, 2, 3))\n",
    "print(better_grad_2(1, 2, 3))"
   ]
  }
 ],
 "metadata": {
  "kernelspec": {
   "display_name": "Python 3.10.7 64-bit",
   "language": "python",
   "name": "python3"
  },
  "language_info": {
   "codemirror_mode": {
    "name": "ipython",
    "version": 3
   },
   "file_extension": ".py",
   "mimetype": "text/x-python",
   "name": "python",
   "nbconvert_exporter": "python",
   "pygments_lexer": "ipython3",
   "version": "3.10.7"
  },
  "orig_nbformat": 4,
  "vscode": {
   "interpreter": {
    "hash": "26de051ba29f2982a8de78e945f0abaf191376122a1563185a90213a26c5da77"
   }
  }
 },
 "nbformat": 4,
 "nbformat_minor": 2
}
