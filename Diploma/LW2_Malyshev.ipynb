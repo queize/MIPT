{
 "cells": [
  {
   "cell_type": "markdown",
   "metadata": {
    "id": "nrizg8fjHXZb"
   },
   "source": [
    "# Лабораторная работа 2: Корреляционная функция и моделирование импульсных пуассоновских процессов"
   ]
  },
  {
   "cell_type": "code",
   "execution_count": 1,
   "metadata": {
    "id": "-KS0HVJJ0_uV"
   },
   "outputs": [],
   "source": [
    "# Не забудьте запустить этот кусок кода\n",
    "import scipy.stats as sps\n",
    "import numpy as np\n",
    "import matplotlib.pyplot as plt\n",
    "%matplotlib inline"
   ]
  },
  {
   "cell_type": "markdown",
   "metadata": {
    "id": "wwIL6O5gHyCN"
   },
   "source": [
    "### Корреляционная функция\n",
    "Корреляционная функция случайного стационарного процесса определяется формулой:\n",
    "$$\\psi(\\tau)=\\langle \\xi(t) \\xi(t + \\tau) \\rangle - \\overline{\\xi}^2.$$ \n",
    "\n",
    "В случае эргодичности второго порядка усреднение по ансамблю можно заменить усреднением по времени: $$\\psi(\\tau)= \\lim_{T\\to\\infty} {1 \\over T}\\int\\limits_0^T \\xi(t) \\xi(t + \\tau) \\,dt - \\overline{\\xi}^2.$$\n",
    "\n",
    "При работе с конечными дискретными последовательностями интеграл переходит в сумму, а нахождение предела замещается вычислением при фиксированном $N$:$$\\psi(m)= {1 \\over N}\\sum_{n=1}^{N} \\xi(n) \\xi(n + m) - \\overline{\\xi}^2.$$\n",
    "\n",
    "1) Выберите одно из распределений библиотеки `scipy.stats` и сгенерируйте  выборку из $L = N + 2M + 1 = 10000$ элементов.\n",
    "\n",
    "Далее посчитайте по формуле корреляционную функцию для значений $m \\in [-M, M]$, где $M = 1000$. Способ реализации остается за вами. Однако настоятельно рекомендую вместо стандартных циклов `python` использовать по возможности операции `numpy` над массивами и диапазонную индексацию массивов. Это значительно ускорит время выполнения вашего кода. Еще быстрее код будет работать, если приспособить функцию `correlate` из библиотеки `numpy` вместо подсчета $2M+1$ суммы. \n",
    "\n",
    "Постройте график корреляционной функции.\n",
    "\n",
    "Повторите действие для $L = 100000$ и $L = 1000000$. "
   ]
  },
  {
   "cell_type": "code",
   "execution_count": 2,
   "metadata": {
    "id": "_KXvrDgGOAxG"
   },
   "outputs": [],
   "source": [
    "L = 10000\n",
    "M = 1000\n",
    "N = L - 1 - 2*M\n",
    "m = np.random.choice(range(-M, M + 1))\n",
    "\n",
    "loc, scale = 0, 1\n",
    "rx = sps.norm(loc=loc, scale=scale)\n",
    "x = rx.rvs(L)"
   ]
  },
  {
   "cell_type": "code",
   "execution_count": 17,
   "metadata": {},
   "outputs": [],
   "source": [
    "L = 1000000\n",
    "M = 1000\n",
    "N = L - 1 - 2*M\n",
    "m = np.random.choice(range(-M, M + 1))\n",
    "\n",
    "loc, scale = 0, 1\n",
    "rx = sps.norm(loc=loc, scale=scale)\n",
    "x = rx.rvs(L)"
   ]
  },
  {
   "cell_type": "code",
   "execution_count": 18,
   "metadata": {},
   "outputs": [
    {
     "data": {
      "text/plain": [
       "array([-0.00109508])"
      ]
     },
     "execution_count": 18,
     "metadata": {},
     "output_type": "execute_result"
    }
   ],
   "source": [
    "phi = 1/N*np.correlate(x[M:N + M], x[M - m:N + M - m]) - np.mean(x[M:N + M])**2\n",
    "phi"
   ]
  },
  {
   "cell_type": "markdown",
   "metadata": {
    "id": "Nw0yeKH8O19J"
   },
   "source": [
    "Полученная функция корреляции при увеличении $L$ стремится к $\\psi(m)= \\delta_{0m}D[\\xi]$. Это связанно с некоррелированностью отсчетов генератора случайных числел `scipy.stats`. Подобные случайные процессы получили название дельта-коррелированных.\n",
    "\n",
    "2) Далее в работе нам еще несколько раз понадобится корреляционная функция, поэтому логично переписать нахождение корреляционной функции в виде отдельной функции `Python`. \n",
    "\n",
    "Напишите функцию `def corr(sample, corr_limit)`, где `sample` – выборка (массив `numpy`), а `corr_limit` – значение $M$ (целое число). Результатом работы функции `corr` должна быть функция корреляции (массив `numpy`)."
   ]
  },
  {
   "cell_type": "code",
   "execution_count": 187,
   "metadata": {
    "id": "bWMtHYOpXdI7"
   },
   "outputs": [],
   "source": [
    "def corr(sample: np.ndarray, corr_limit) -> np.ndarray:\n",
    "  L, M = sample.shape[0], corr_limit\n",
    "  N = L - 1 - 2*M\n",
    "  return np.array([\n",
    "    1/N*np.correlate(sample[M:N + M], sample[M - m:N + M - m]) - np.mean(sample[M:N + M])**2 for m in range(-M, M + 1)\n",
    "  ]).reshape(2*M + 1)"
   ]
  },
  {
   "cell_type": "markdown",
   "metadata": {
    "id": "QyiDebZbigPo"
   },
   "source": [
    "3) Проверьте корректность работы функции `corr`, переписав код из пункта 1 с её помощью."
   ]
  },
  {
   "cell_type": "code",
   "execution_count": 30,
   "metadata": {
    "id": "iPESnzMP3cj-"
   },
   "outputs": [
    {
     "data": {
      "text/plain": [
       "array([[-0.01103429],\n",
       "       [-0.01271163],\n",
       "       [-0.0018848 ],\n",
       "       ...,\n",
       "       [-0.00305188],\n",
       "       [-0.01654143],\n",
       "       [-0.01498486]])"
      ]
     },
     "execution_count": 30,
     "metadata": {},
     "output_type": "execute_result"
    }
   ],
   "source": [
    "L = 10000\n",
    "M = 1000\n",
    "N = L - 1 - 2*M\n",
    "m = np.random.choice(range(-M, M + 1))\n",
    "\n",
    "loc, scale = 0, 1\n",
    "rx = sps.norm(loc=loc, scale=scale)\n",
    "x = rx.rvs(L)\n",
    "\n",
    "corr(x, 500)"
   ]
  },
  {
   "cell_type": "markdown",
   "metadata": {
    "id": "e0VL5_5fqeK8"
   },
   "source": [
    "### Пуассоновский процесс с экспоненциальными импульсами\n",
    "Сгенерируем процесс: \n",
    "$$\\xi(n)= \\sum_{\\nu} a_\\nu F(n - m_\\nu)$$\n",
    "\n",
    "$$F(n) = \n",
    " \\begin{cases}\n",
    "   0 &\\text{при $n < 0$}\\\\\n",
    "   e^{-\\alpha n} &\\text{при $n \\geq 0$}\n",
    " \\end{cases}\n",
    " $$\n",
    "\n",
    "$$ P(a_\\nu = 1) = 1/2,   P(a_\\nu = -1) = 1/2 $$\n",
    "\n",
    "$$n \\in [0:L-1]$$\n",
    "Отсчеты $m_\\nu$ распределены по Пуассону со средней плотностью импульсов $n_1$.\n",
    " \n",
    "Параметры: $\\alpha = {1 \\over 100}$, $L = 1000000$, $n_1 = {1 \\over 200}$.\n",
    "\n",
    "Выбор способа генерации процесса остается за вами. Вы можете последовательно выполнить пункты 4-6, а можете написать свой собственный способ генерации, если есть такое желание. \n",
    "\n",
    " 4) Начнем с генерации импульса. Величина $1 \\over \\alpha$ отражает количество отсчетов, через которое значение импульса уменьшится в $e$ раз. Поэтому через $N_p = 500$ отсчетов значение импульса будет близко к $0$ и его вклад в итоговый случайны процесс будет незначительным. Поэтому импульс можно выразить массивом из $N_p$ элементов без серьезной потери точности.\n",
    "\n",
    " Создайте такой массив и постройте его график."
   ]
  },
  {
   "cell_type": "code",
   "execution_count": 65,
   "metadata": {
    "id": "psLcTxZc2YRO"
   },
   "outputs": [
    {
     "data": {
      "image/png": "[encoded data removed]",
      "text/plain": [
       "<Figure size 640x480 with 1 Axes>"
      ]
     },
     "metadata": {},
     "output_type": "display_data"
    }
   ],
   "source": [
    "Np = 500\n",
    "L = 1000000\n",
    "alpha, n1 = 1/100, 1/200\n",
    "n = np.arange(0, Np)\n",
    "F = np.exp(-alpha*n)\n",
    "\n",
    "plt.plot(n, F)\n",
    "plt.grid()"
   ]
  },
  {
   "cell_type": "markdown",
   "metadata": {
    "id": "_rHV3jDlhNg4"
   },
   "source": [
    "5) Далее разберемся с отсчетами $m_\\nu$. Для дискретного случая распределение Пуассона означает, что возникновение импульса при каждом отсчете определяется схемой Бернулли. А средняя плотность импульсов $n_1$ соответствует вероятности успеха в этой схеме.\n",
    "\n",
    "Сгенерируйте выборку из $L + N_p$ элементов, распределенных по схеме Бернулли с вероятностью успеха $n_1$. Дополнительные $N_p$ отсчетов позволят избежать краевых эффектов в начале итоговой последовательности.\n",
    "\n",
    "Сгенерируйте выборку из $L + N_p$ элементов, распределенных с вероятностями $ P(1) = 1/2,   P(-1) = 1/2 $ (для этого тоже можно использовать схему Бернулли).\n",
    "\n",
    "Перемножьте полученные выборки. Если изменить подход к описанию случайного процесса и представить, что импульсы возникают при каждом отсчете времени (просто часть импульсов обладает нулевой амплитудой), то результат представляет собой амплитуды импульсов.\n",
    "\n",
    "Постройте график для первых $10000$ отсчетов.\n"
   ]
  },
  {
   "cell_type": "code",
   "execution_count": 165,
   "metadata": {
    "id": "Rt7XFgLOOz9b"
   },
   "outputs": [],
   "source": [
    "rx = sps.bernoulli(n1)\n",
    "\n",
    "x = rx.rvs(size=(L + Np))"
   ]
  },
  {
   "cell_type": "code",
   "execution_count": 166,
   "metadata": {},
   "outputs": [],
   "source": [
    "ry = sps.bernoulli(0.5, loc=-1)\n",
    "\n",
    "y = ry.rvs(size=(L + Np))"
   ]
  },
  {
   "cell_type": "code",
   "execution_count": 168,
   "metadata": {},
   "outputs": [],
   "source": [
    "a = x*y"
   ]
  },
  {
   "cell_type": "markdown",
   "metadata": {
    "id": "aHpcmLBFuXUT"
   },
   "source": [
    "6) Получите итоговый случайный процесс. Если представить, что импульсы возникают при каждом отсчете времени, то формула определяющая случайный процесс примет вид:\n",
    "\n",
    "$$\\xi(n)= \\sum_{m = 0}^{N_p-1} a(n + N_p -m)F(m).$$\n",
    "\n",
    "Постройте график для первых $10000$ отсчетов случайного процесса. "
   ]
  },
  {
   "cell_type": "code",
   "execution_count": 177,
   "metadata": {
    "id": "e63xG_f5a8bh"
   },
   "outputs": [],
   "source": [
    "def rv_ksi(L: int) -> np.ndarray:\n",
    "    return np.array([\n",
    "        np.correlate(a[n + 1: n + Np + 1], F[:Np]) for n in range(L)\n",
    "    ]).reshape(L)"
   ]
  },
  {
   "cell_type": "code",
   "execution_count": 190,
   "metadata": {},
   "outputs": [
    {
     "data": {
      "text/plain": [
       "[<matplotlib.lines.Line2D at 0x2094154d810>]"
      ]
     },
     "execution_count": 190,
     "metadata": {},
     "output_type": "execute_result"
    },
    {
     "data": {
      "image/png": "[encoded data removed]",
      "text/plain": [
       "<Figure size 640x480 with 1 Axes>"
      ]
     },
     "metadata": {},
     "output_type": "display_data"
    }
   ],
   "source": [
    "L = 10000\n",
    "ksi = rv_ksi(L)\n",
    "\n",
    "plt.plot(np.arange(L), ksi)"
   ]
  },
  {
   "cell_type": "markdown",
   "metadata": {
    "id": "DWoSlzYdxZqq"
   },
   "source": [
    "7) Найдите корреляционную функцию сгенерированного процесса. \n",
    "\n",
    "Рассчитайте теоретическую корреляционную функцию по формуле:\n",
    "\n",
    "$$\\psi(m) = {n_1 \\over 2\\alpha}e^{-\\alpha|m|}$$\n",
    "\n",
    "для $M = 1000$.\n",
    "\n",
    "Постройте обе функции на одном графике. Пронаблюдайте, как результат моделирования сходится к теоретическому при разных значениях $L = 10000, 100000, 1000000$."
   ]
  },
  {
   "cell_type": "code",
   "execution_count": 191,
   "metadata": {
    "id": "myR5amHqyVaL"
   },
   "outputs": [
    {
     "data": {
      "text/plain": [
       "[<matplotlib.lines.Line2D at 0x209415dd270>]"
      ]
     },
     "execution_count": 191,
     "metadata": {},
     "output_type": "execute_result"
    },
    {
     "data": {
      "image/png": "[encoded data removed]",
      "text/plain": [
       "<Figure size 640x480 with 1 Axes>"
      ]
     },
     "metadata": {},
     "output_type": "display_data"
    }
   ],
   "source": [
    "plt.plot(np.arange(-M, M + 1), corr(ksi, 1000))"
   ]
  },
  {
   "cell_type": "markdown",
   "metadata": {
    "id": "NUGwgACUBhrW"
   },
   "source": [
    "### Телеграфный сигнал\n",
    "Сгенерируем процесс:\n",
    "\n",
    "$$\\xi(n) = \n",
    " \\begin{cases}\n",
    "   \\xi(n-1) &\\text{при $\\eta(n) = 0$}\\\\\n",
    "   -\\xi(n-1) &\\text{при $\\eta(n) = 1$}\n",
    " \\end{cases}\n",
    " $$\n",
    "\n",
    "$$ P(\\xi(0) = 1) = 1/2,   P(\\xi(0) = -1) = 1/2 $$\n",
    "\n",
    "$$n \\in [0:L-1]$$\n",
    "Величина $\\eta(n)$ распределена по Пуассону со средней плотностью импульсов $n_1$.\n",
    " \n",
    "Параметры: $L = 1000000$, $n_1 = {1 \\over 200}$.\n",
    "\n",
    "Выбор способа генерации процесса остается за вами. Вы можете выполнить пункт 8, а можете написать свой собственный способ генерации, если есть такое желание. \n",
    "\n",
    " 8) Сгенерируйте выборку из $L$ элементов, распределенных по схеме Бернулли с вероятностью успеха $n_1$.\n",
    "\n",
    "Сгенерируйте первый элемент итогового случайного процесса, распределенный с вероятностями $ P(1) = 1/2,   P(-1) = 1/2 $ (для этого тоже можно использовать схему Бернулли).\n",
    "\n",
    "Вычислите остальные элементы  итогового случайного процесса по формуле.\n",
    "\n",
    "Постройте график для первых $10000$ отсчетов случайного процесса. "
   ]
  },
  {
   "cell_type": "code",
   "execution_count": 193,
   "metadata": {
    "id": "Cp2FFekf6GEI"
   },
   "outputs": [],
   "source": [
    "L, n1 = 1000000, 1./200\n",
    "mu = n1\n",
    "rx = sps.poisson(mu)\n",
    "eta = rx.rvs(size=L)\n",
    "\n",
    "x1 = sps.bernoulli.rvs(n1, size=L)\n",
    "x2 = sps.bernoulli.rvs(0.5, size=L, loc=-1)"
   ]
  },
  {
   "cell_type": "markdown",
   "metadata": {
    "id": "HBLEjE4GF_1y"
   },
   "source": [
    "9) Найдите корреляционную функцию сгенерированного процесса. \n",
    "\n",
    "Рассчитайте теоретическую корреляционную функцию по формуле:\n",
    "\n",
    "$$\\psi(m) = e^{-2n_1|m|}$$\n",
    "\n",
    "для $M = 1000$.\n",
    "\n",
    "Постройте обе функции на одном графике. Пронаблюдайте, как результат моделирования сходится к теоретическому при разных значениях $L = 10000, 100000, 1000000$."
   ]
  },
  {
   "cell_type": "code",
   "execution_count": 156,
   "metadata": {
    "id": "FR9EaaGEA0cZ"
   },
   "outputs": [],
   "source": [
    "# Здесь ваш код"
   ]
  },
  {
   "cell_type": "markdown",
   "metadata": {
    "id": "rbnWjhmfIDst"
   },
   "source": [
    "### Пуассоновский процесс с прямоугольными импульсами случайной длительности\n",
    "Сгенерируем процесс: \n",
    "$$\\xi(n)= \\sum_{\\nu} F \\left( {n - m_\\nu \\over \\theta_\\nu} \\right)$$\n",
    "\n",
    "$$F(\\Theta) = \n",
    " \\begin{cases}\n",
    "   1 &\\text{при $\\Theta \\in [0,1]$}\\\\\n",
    "   0 &\\text{при $\\Theta \\notin [0,1]$}\n",
    " \\end{cases}\n",
    " $$\n",
    "\n",
    "$$ \\rho(\\theta_\\nu) = {1\\over \\overline{\\theta}}e^{-\\theta_\\nu / \\overline{\\theta}} $$\n",
    "\n",
    "$$n \\in [0:L-1]$$\n",
    "Отсчеты $m_\\nu$ распределены по Пуассону со средней плотностью импульсов $n_1$.\n",
    " \n",
    "Параметры: $\\overline{\\theta} = 200$, $L = 1000000$, $n_1 = {1 \\over 200}$.\n",
    "\n",
    "Выбор способа генерации процесса остается за вами. Вы можете выполнить пункт 10, а можете написать свой собственный способ генерации, если есть такое желание. \n",
    "\n",
    " 10) Сгенерируйте выборку из $L$ элементов, распределенных по схеме Бернулли с вероятностью успеха $n_1$. Значение соответствует возникновению импульса в каждый отсчет времени.\n",
    "\n",
    "Сгенерируйте выборку из $L$ элементов, распределенных с плотностью вероятности $\\rho(\\theta_\\nu)$. Значение соответствует длительности импульса в каждый отсчет времени.\n",
    "\n",
    "Для всех возникших импульсов $\\nu$ прибавьте 1 к элементам итогового случайного процесса с индексами $n$ удовлетворяющими условию $m_\\nu \\leq n \\leq m_\\nu + [\\theta_\\nu]$, где $m_\\nu$ – номер отсчета, в который возник импульс, $[x]$ – округление числа $x$ до целого. Возможно, что для корректной работы программы необходимо будет привести полученное значение к целому типу.\n",
    "\n",
    "Постройте график для первых $10000$ отсчетов случайного процесса. "
   ]
  },
  {
   "cell_type": "code",
   "execution_count": 157,
   "metadata": {
    "id": "G9SJaQhmCWrV"
   },
   "outputs": [],
   "source": [
    "# Здесь ваш код"
   ]
  },
  {
   "cell_type": "markdown",
   "metadata": {
    "id": "h7FLY7WxRVb0"
   },
   "source": [
    "11) Найдите корреляционную функцию сгенерированного процесса. \n",
    "\n",
    "Рассчитайте теоретическую корреляционную функцию по формуле:\n",
    "\n",
    "$$\\psi(m) = n_1 \\overline{\\theta} e^{-|m|/ \\overline{\\theta}}$$\n",
    "\n",
    "для $M = 1000$.\n",
    "\n",
    "Постройте обе функции на одном графике. Пронаблюдайте, как результат моделирования сходится к теоретическому при разных значениях $L = 10000, 100000, 1000000$."
   ]
  },
  {
   "cell_type": "code",
   "execution_count": 158,
   "metadata": {
    "id": "gk8RtcngIyQ2"
   },
   "outputs": [],
   "source": [
    "# Здесь ваш код"
   ]
  }
 ],
 "metadata": {
  "colab": {
   "authorship_tag": "ABX9TyO86QTQzip/0mEtrC/8ByGn",
   "collapsed_sections": [],
   "name": "LW2.ipynb",
   "provenance": []
  },
  "kernelspec": {
   "display_name": "Python 3 (ipykernel)",
   "language": "python",
   "name": "python3"
  },
  "language_info": {
   "codemirror_mode": {
    "name": "ipython",
    "version": 3
   },
   "file_extension": ".py",
   "mimetype": "text/x-python",
   "name": "python",
   "nbconvert_exporter": "python",
   "pygments_lexer": "ipython3",
   "version": "3.10.7"
  },
  "vscode": {
   "interpreter": {
    "hash": "26de051ba29f2982a8de78e945f0abaf191376122a1563185a90213a26c5da77"
   }
  }
 },
 "nbformat": 4,
 "nbformat_minor": 1
}
