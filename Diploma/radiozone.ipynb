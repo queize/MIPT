{
 "cells": [
  {
   "cell_type": "code",
   "execution_count": 1,
   "metadata": {},
   "outputs": [],
   "source": [
    "import pandas as pd\n",
    "import numpy as np"
   ]
  },
  {
   "cell_type": "code",
   "execution_count": 22,
   "metadata": {},
   "outputs": [],
   "source": [
    "T = 86164\n",
    "H = 1200\n",
    "Re = 6371\n",
    "t0 = 0\n",
    "t = t0\n",
    "v = 120\n",
    "Omega_0 = 0"
   ]
  },
  {
   "cell_type": "code",
   "execution_count": 45,
   "metadata": {},
   "outputs": [],
   "source": [
    "data = pd.read_csv('orbit.csv')"
   ]
  },
  {
   "cell_type": "code",
   "execution_count": 46,
   "metadata": {},
   "outputs": [],
   "source": [
    "Omega   = np.deg2rad(data['Omega'])\n",
    "i       = np.deg2rad(data['i'])\n",
    "omega   = np.deg2rad(data['omega'])\n",
    "delta   = np.deg2rad(data['delta'])\n",
    "N       = data.shape[0]"
   ]
  },
  {
   "cell_type": "code",
   "execution_count": 55,
   "metadata": {},
   "outputs": [],
   "source": [
    "phi_sat = np.arcsin(np.sin(i)*np.sin(omega + v*(t - t0)))\n",
    "theta_sat = Omega_0*2*np.pi/T + np.arctan(np.cos(i)*np.tan(omega + v*(t - t0)))"
   ]
  },
  {
   "cell_type": "code",
   "execution_count": 49,
   "metadata": {},
   "outputs": [],
   "source": [
    "alpha = np.arcsin(Re/(Re + H)*np.cos(delta))\n",
    "phi_0 = np.arccos(Re/(Re + H)*np.cos(delta)) - delta\n",
    "Rmax = np.sqrt(Re**2 + (Re+H)**2 - Re*(Re+H)*np.cos(phi_0))"
   ]
  },
  {
   "cell_type": "code",
   "execution_count": 56,
   "metadata": {},
   "outputs": [],
   "source": [
    "phi_sat_edge = phi_0 + phi_sat\n",
    "theta_sat_edge = theta_sat - np.arccos((np.cos(phi_0) - np.sin(phi_sat)*np.sin(phi_sat_edge))/(np.cos(phi_sat)*np.cos(phi_sat_edge)))"
   ]
  }
 ],
 "metadata": {
  "kernelspec": {
   "display_name": "Python 3.10.8 64-bit (microsoft store)",
   "language": "python",
   "name": "python3"
  },
  "language_info": {
   "codemirror_mode": {
    "name": "ipython",
    "version": 3
   },
   "file_extension": ".py",
   "mimetype": "text/x-python",
   "name": "python",
   "nbconvert_exporter": "python",
   "pygments_lexer": "ipython3",
   "version": "3.10.8"
  },
  "orig_nbformat": 4,
  "vscode": {
   "interpreter": {
    "hash": "13b2b0999cfb2c016c8cb23a03011a28e43ef85346ca2cfe31f6685637edab65"
   }
  }
 },
 "nbformat": 4,
 "nbformat_minor": 2
}
