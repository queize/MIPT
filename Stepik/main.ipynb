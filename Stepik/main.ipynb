{
 "cells": [
  {
   "cell_type": "code",
   "execution_count": 8,
   "metadata": {},
   "outputs": [],
   "source": [
    "# Timur;100\n",
    "# Ruslan;97\n",
    "\n",
    "names = ['name', 'grade']\n",
    "first_student = ['Timur', '100']\n",
    "second_student = ['Ruslan', '97']\n",
    "students = [first_student, second_student]"
   ]
  },
  {
   "cell_type": "code",
   "execution_count": 10,
   "metadata": {},
   "outputs": [],
   "source": [
    "arr_dict = [dict(zip(names, student)) for student in students]"
   ]
  },
  {
   "cell_type": "code",
   "execution_count": 16,
   "metadata": {},
   "outputs": [],
   "source": [
    "import csv"
   ]
  },
  {
   "cell_type": "code",
   "execution_count": 22,
   "metadata": {},
   "outputs": [],
   "source": [
    "with open('students.csv', 'w', encoding='utf-8', newline='') as file_csv:\n",
    "    writer = csv.DictWriter(file_csv, fieldnames=names, delimiter=';')\n",
    "    \n",
    "    for row in arr_dict:\n",
    "        writer.writerow(row)"
   ]
  },
  {
   "cell_type": "code",
   "execution_count": null,
   "metadata": {},
   "outputs": [],
   "source": []
  }
 ],
 "metadata": {
  "kernelspec": {
   "display_name": "Python 3.10.8 64-bit (microsoft store)",
   "language": "python",
   "name": "python3"
  },
  "language_info": {
   "codemirror_mode": {
    "name": "ipython",
    "version": 3
   },
   "file_extension": ".py",
   "mimetype": "text/x-python",
   "name": "python",
   "nbconvert_exporter": "python",
   "pygments_lexer": "ipython3",
   "version": "3.10.8"
  },
  "orig_nbformat": 4,
  "vscode": {
   "interpreter": {
    "hash": "13b2b0999cfb2c016c8cb23a03011a28e43ef85346ca2cfe31f6685637edab65"
   }
  }
 },
 "nbformat": 4,
 "nbformat_minor": 2
}
